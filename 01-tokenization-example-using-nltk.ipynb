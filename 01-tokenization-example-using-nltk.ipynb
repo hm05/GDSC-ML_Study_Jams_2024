{
 "cells": [
  {
   "cell_type": "code",
   "execution_count": 1,
   "id": "8b4afd85",
   "metadata": {
    "_cell_guid": "b1076dfc-b9ad-4769-8c92-a6c4dae69d19",
    "_uuid": "8f2839f25d086af736a60e9eeb907d3b93b6e0e5",
    "execution": {
     "iopub.execute_input": "2024-03-10T06:34:31.714882Z",
     "iopub.status.busy": "2024-03-10T06:34:31.714321Z",
     "iopub.status.idle": "2024-03-10T06:34:32.680057Z",
     "shell.execute_reply": "2024-03-10T06:34:32.678979Z"
    },
    "papermill": {
     "duration": 0.9775,
     "end_time": "2024-03-10T06:34:32.683186",
     "exception": false,
     "start_time": "2024-03-10T06:34:31.705686",
     "status": "completed"
    },
    "tags": []
   },
   "outputs": [],
   "source": [
    "# This Python 3 environment comes with many helpful analytics libraries installed\n",
    "# It is defined by the kaggle/python Docker image: https://github.com/kaggle/docker-python\n",
    "# For example, here's several helpful packages to load\n",
    "\n",
    "import numpy as np # linear algebra\n",
    "import pandas as pd # data processing, CSV file I/O (e.g. pd.read_csv)\n",
    "\n",
    "# Input data files are available in the read-only \"../input/\" directory\n",
    "# For example, running this (by clicking run or pressing Shift+Enter) will list all files under the input directory\n",
    "\n",
    "import os\n",
    "for dirname, _, filenames in os.walk('/kaggle/input'):\n",
    "    for filename in filenames:\n",
    "        print(os.path.join(dirname, filename))\n",
    "\n",
    "# You can write up to 20GB to the current directory (/kaggle/working/) that gets preserved as output when you create a version using \"Save & Run All\" \n",
    "# You can also write temporary files to /kaggle/temp/, but they won't be saved outside of the current session"
   ]
  },
  {
   "cell_type": "code",
   "execution_count": 2,
   "id": "ca0d16a8",
   "metadata": {
    "execution": {
     "iopub.execute_input": "2024-03-10T06:34:32.697399Z",
     "iopub.status.busy": "2024-03-10T06:34:32.696135Z",
     "iopub.status.idle": "2024-03-10T06:34:32.701662Z",
     "shell.execute_reply": "2024-03-10T06:34:32.700712Z"
    },
    "papermill": {
     "duration": 0.014751,
     "end_time": "2024-03-10T06:34:32.703802",
     "exception": false,
     "start_time": "2024-03-10T06:34:32.689051",
     "status": "completed"
    },
    "tags": []
   },
   "outputs": [],
   "source": [
    "corpus=\"\"\"Konichiwa everyone, Welcome to the \"Exclusive\" NLP Workshop by GDSC.\n",
    "This notebook will cover Tokenization with NLTK. Hope you all have a good sessions.\n",
    "\"\"\""
   ]
  },
  {
   "cell_type": "code",
   "execution_count": 3,
   "id": "99b0198d",
   "metadata": {
    "execution": {
     "iopub.execute_input": "2024-03-10T06:34:32.716438Z",
     "iopub.status.busy": "2024-03-10T06:34:32.715760Z",
     "iopub.status.idle": "2024-03-10T06:34:32.720841Z",
     "shell.execute_reply": "2024-03-10T06:34:32.719890Z"
    },
    "papermill": {
     "duration": 0.014031,
     "end_time": "2024-03-10T06:34:32.723089",
     "exception": false,
     "start_time": "2024-03-10T06:34:32.709058",
     "status": "completed"
    },
    "tags": []
   },
   "outputs": [
    {
     "name": "stdout",
     "output_type": "stream",
     "text": [
      "Konichiwa everyone, Welcome to the \"Exclusive\" NLP Workshop by GDSC.\n",
      "This notebook will cover Tokenization with NLTK. Hope you all have a good sessions.\n",
      "\n"
     ]
    }
   ],
   "source": [
    "print(corpus)"
   ]
  },
  {
   "cell_type": "code",
   "execution_count": 4,
   "id": "01ef81ac",
   "metadata": {
    "execution": {
     "iopub.execute_input": "2024-03-10T06:34:32.736388Z",
     "iopub.status.busy": "2024-03-10T06:34:32.735643Z",
     "iopub.status.idle": "2024-03-10T06:34:34.873023Z",
     "shell.execute_reply": "2024-03-10T06:34:34.871620Z"
    },
    "papermill": {
     "duration": 2.147635,
     "end_time": "2024-03-10T06:34:34.876178",
     "exception": false,
     "start_time": "2024-03-10T06:34:32.728543",
     "status": "completed"
    },
    "tags": []
   },
   "outputs": [],
   "source": [
    " from nltk.tokenize import sent_tokenize\n"
   ]
  },
  {
   "cell_type": "code",
   "execution_count": 5,
   "id": "c9c9f0df",
   "metadata": {
    "execution": {
     "iopub.execute_input": "2024-03-10T06:34:34.889911Z",
     "iopub.status.busy": "2024-03-10T06:34:34.889412Z",
     "iopub.status.idle": "2024-03-10T06:34:34.912120Z",
     "shell.execute_reply": "2024-03-10T06:34:34.910856Z"
    },
    "papermill": {
     "duration": 0.033004,
     "end_time": "2024-03-10T06:34:34.915050",
     "exception": false,
     "start_time": "2024-03-10T06:34:34.882046",
     "status": "completed"
    },
    "tags": []
   },
   "outputs": [],
   "source": [
    "documents=sent_tokenize(corpus)\n"
   ]
  },
  {
   "cell_type": "code",
   "execution_count": 6,
   "id": "6886ee64",
   "metadata": {
    "execution": {
     "iopub.execute_input": "2024-03-10T06:34:34.929153Z",
     "iopub.status.busy": "2024-03-10T06:34:34.928663Z",
     "iopub.status.idle": "2024-03-10T06:34:34.936952Z",
     "shell.execute_reply": "2024-03-10T06:34:34.935667Z"
    },
    "papermill": {
     "duration": 0.018995,
     "end_time": "2024-03-10T06:34:34.939739",
     "exception": false,
     "start_time": "2024-03-10T06:34:34.920744",
     "status": "completed"
    },
    "tags": []
   },
   "outputs": [
    {
     "data": {
      "text/plain": [
       "list"
      ]
     },
     "execution_count": 6,
     "metadata": {},
     "output_type": "execute_result"
    }
   ],
   "source": [
    "type(documents)\n"
   ]
  },
  {
   "cell_type": "code",
   "execution_count": 7,
   "id": "40e4fefc",
   "metadata": {
    "execution": {
     "iopub.execute_input": "2024-03-10T06:34:34.953763Z",
     "iopub.status.busy": "2024-03-10T06:34:34.952595Z",
     "iopub.status.idle": "2024-03-10T06:34:34.958704Z",
     "shell.execute_reply": "2024-03-10T06:34:34.957452Z"
    },
    "papermill": {
     "duration": 0.015911,
     "end_time": "2024-03-10T06:34:34.961284",
     "exception": false,
     "start_time": "2024-03-10T06:34:34.945373",
     "status": "completed"
    },
    "tags": []
   },
   "outputs": [
    {
     "name": "stdout",
     "output_type": "stream",
     "text": [
      "Konichiwa everyone, Welcome to the \"Exclusive\" NLP Workshop by GDSC.\n",
      "This notebook will cover Tokenization with NLTK.\n",
      "Hope you all have a good sessions.\n"
     ]
    }
   ],
   "source": [
    "for sentence in documents:\n",
    "    print(sentence)"
   ]
  },
  {
   "cell_type": "code",
   "execution_count": 8,
   "id": "417425ca",
   "metadata": {
    "execution": {
     "iopub.execute_input": "2024-03-10T06:34:34.975459Z",
     "iopub.status.busy": "2024-03-10T06:34:34.974961Z",
     "iopub.status.idle": "2024-03-10T06:34:34.979967Z",
     "shell.execute_reply": "2024-03-10T06:34:34.978691Z"
    },
    "papermill": {
     "duration": 0.015073,
     "end_time": "2024-03-10T06:34:34.982510",
     "exception": false,
     "start_time": "2024-03-10T06:34:34.967437",
     "status": "completed"
    },
    "tags": []
   },
   "outputs": [],
   "source": [
    "from nltk.tokenize import word_tokenize\n"
   ]
  },
  {
   "cell_type": "code",
   "execution_count": 9,
   "id": "583ff4a1",
   "metadata": {
    "execution": {
     "iopub.execute_input": "2024-03-10T06:34:34.996698Z",
     "iopub.status.busy": "2024-03-10T06:34:34.995711Z",
     "iopub.status.idle": "2024-03-10T06:34:35.005980Z",
     "shell.execute_reply": "2024-03-10T06:34:35.004596Z"
    },
    "papermill": {
     "duration": 0.020684,
     "end_time": "2024-03-10T06:34:35.008948",
     "exception": false,
     "start_time": "2024-03-10T06:34:34.988264",
     "status": "completed"
    },
    "tags": []
   },
   "outputs": [
    {
     "data": {
      "text/plain": [
       "['Konichiwa',\n",
       " 'everyone',\n",
       " ',',\n",
       " 'Welcome',\n",
       " 'to',\n",
       " 'the',\n",
       " '``',\n",
       " 'Exclusive',\n",
       " \"''\",\n",
       " 'NLP',\n",
       " 'Workshop',\n",
       " 'by',\n",
       " 'GDSC',\n",
       " '.',\n",
       " 'This',\n",
       " 'notebook',\n",
       " 'will',\n",
       " 'cover',\n",
       " 'Tokenization',\n",
       " 'with',\n",
       " 'NLTK',\n",
       " '.',\n",
       " 'Hope',\n",
       " 'you',\n",
       " 'all',\n",
       " 'have',\n",
       " 'a',\n",
       " 'good',\n",
       " 'sessions',\n",
       " '.']"
      ]
     },
     "execution_count": 9,
     "metadata": {},
     "output_type": "execute_result"
    }
   ],
   "source": [
    "word_tokenize(corpus)\n"
   ]
  },
  {
   "cell_type": "code",
   "execution_count": 10,
   "id": "ee06ed79",
   "metadata": {
    "execution": {
     "iopub.execute_input": "2024-03-10T06:34:35.023440Z",
     "iopub.status.busy": "2024-03-10T06:34:35.022502Z",
     "iopub.status.idle": "2024-03-10T06:34:35.030218Z",
     "shell.execute_reply": "2024-03-10T06:34:35.028661Z"
    },
    "papermill": {
     "duration": 0.017955,
     "end_time": "2024-03-10T06:34:35.032826",
     "exception": false,
     "start_time": "2024-03-10T06:34:35.014871",
     "status": "completed"
    },
    "tags": []
   },
   "outputs": [
    {
     "name": "stdout",
     "output_type": "stream",
     "text": [
      "['Konichiwa', 'everyone', ',', 'Welcome', 'to', 'the', '``', 'Exclusive', \"''\", 'NLP', 'Workshop', 'by', 'GDSC', '.']\n",
      "['This', 'notebook', 'will', 'cover', 'Tokenization', 'with', 'NLTK', '.']\n",
      "['Hope', 'you', 'all', 'have', 'a', 'good', 'sessions', '.']\n"
     ]
    }
   ],
   "source": [
    "for sentence in documents:\n",
    "    print(word_tokenize(sentence))"
   ]
  },
  {
   "cell_type": "code",
   "execution_count": 11,
   "id": "261f07ab",
   "metadata": {
    "execution": {
     "iopub.execute_input": "2024-03-10T06:34:35.048432Z",
     "iopub.status.busy": "2024-03-10T06:34:35.047316Z",
     "iopub.status.idle": "2024-03-10T06:34:35.053014Z",
     "shell.execute_reply": "2024-03-10T06:34:35.051806Z"
    },
    "papermill": {
     "duration": 0.015687,
     "end_time": "2024-03-10T06:34:35.055374",
     "exception": false,
     "start_time": "2024-03-10T06:34:35.039687",
     "status": "completed"
    },
    "tags": []
   },
   "outputs": [],
   "source": [
    "from nltk.tokenize import wordpunct_tokenize\n"
   ]
  },
  {
   "cell_type": "code",
   "execution_count": 12,
   "id": "d099b7a3",
   "metadata": {
    "execution": {
     "iopub.execute_input": "2024-03-10T06:34:35.069376Z",
     "iopub.status.busy": "2024-03-10T06:34:35.068509Z",
     "iopub.status.idle": "2024-03-10T06:34:35.077580Z",
     "shell.execute_reply": "2024-03-10T06:34:35.076315Z"
    },
    "papermill": {
     "duration": 0.018771,
     "end_time": "2024-03-10T06:34:35.080028",
     "exception": false,
     "start_time": "2024-03-10T06:34:35.061257",
     "status": "completed"
    },
    "tags": []
   },
   "outputs": [
    {
     "data": {
      "text/plain": [
       "['Konichiwa',\n",
       " 'everyone',\n",
       " ',',\n",
       " 'Welcome',\n",
       " 'to',\n",
       " 'the',\n",
       " '\"',\n",
       " 'Exclusive',\n",
       " '\"',\n",
       " 'NLP',\n",
       " 'Workshop',\n",
       " 'by',\n",
       " 'GDSC',\n",
       " '.',\n",
       " 'This',\n",
       " 'notebook',\n",
       " 'will',\n",
       " 'cover',\n",
       " 'Tokenization',\n",
       " 'with',\n",
       " 'NLTK',\n",
       " '.',\n",
       " 'Hope',\n",
       " 'you',\n",
       " 'all',\n",
       " 'have',\n",
       " 'a',\n",
       " 'good',\n",
       " 'sessions',\n",
       " '.']"
      ]
     },
     "execution_count": 12,
     "metadata": {},
     "output_type": "execute_result"
    }
   ],
   "source": [
    "wordpunct_tokenize(corpus)\n"
   ]
  },
  {
   "cell_type": "code",
   "execution_count": null,
   "id": "c38bef39",
   "metadata": {
    "papermill": {
     "duration": 0.005723,
     "end_time": "2024-03-10T06:34:35.091886",
     "exception": false,
     "start_time": "2024-03-10T06:34:35.086163",
     "status": "completed"
    },
    "tags": []
   },
   "outputs": [],
   "source": []
  }
 ],
 "metadata": {
  "kaggle": {
   "accelerator": "none",
   "dataSources": [],
   "dockerImageVersionId": 30664,
   "isGpuEnabled": false,
   "isInternetEnabled": true,
   "language": "python",
   "sourceType": "notebook"
  },
  "kernelspec": {
   "display_name": "Python 3",
   "language": "python",
   "name": "python3"
  },
  "language_info": {
   "codemirror_mode": {
    "name": "ipython",
    "version": 3
   },
   "file_extension": ".py",
   "mimetype": "text/x-python",
   "name": "python",
   "nbconvert_exporter": "python",
   "pygments_lexer": "ipython3",
   "version": "3.10.13"
  },
  "papermill": {
   "default_parameters": {},
   "duration": 7.57146,
   "end_time": "2024-03-10T06:34:36.023240",
   "environment_variables": {},
   "exception": null,
   "input_path": "__notebook__.ipynb",
   "output_path": "__notebook__.ipynb",
   "parameters": {},
   "start_time": "2024-03-10T06:34:28.451780",
   "version": "2.5.0"
  }
 },
 "nbformat": 4,
 "nbformat_minor": 5
}
