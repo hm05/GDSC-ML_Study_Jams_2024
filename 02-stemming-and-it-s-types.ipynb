{
 "cells": [
  {
   "cell_type": "code",
   "execution_count": 1,
   "id": "0a94c558",
   "metadata": {
    "_cell_guid": "b1076dfc-b9ad-4769-8c92-a6c4dae69d19",
    "_uuid": "8f2839f25d086af736a60e9eeb907d3b93b6e0e5",
    "execution": {
     "iopub.execute_input": "2024-03-10T06:35:07.619991Z",
     "iopub.status.busy": "2024-03-10T06:35:07.619046Z",
     "iopub.status.idle": "2024-03-10T06:35:08.692992Z",
     "shell.execute_reply": "2024-03-10T06:35:08.691769Z"
    },
    "papermill": {
     "duration": 1.088452,
     "end_time": "2024-03-10T06:35:08.696166",
     "exception": false,
     "start_time": "2024-03-10T06:35:07.607714",
     "status": "completed"
    },
    "tags": []
   },
   "outputs": [],
   "source": [
    "# This Python 3 environment comes with many helpful analytics libraries installed\n",
    "# It is defined by the kaggle/python Docker image: https://github.com/kaggle/docker-python\n",
    "# For example, here's several helpful packages to load\n",
    "\n",
    "import numpy as np # linear algebra\n",
    "import pandas as pd # data processing, CSV file I/O (e.g. pd.read_csv)\n",
    "\n",
    "# Input data files are available in the read-only \"../input/\" directory\n",
    "# For example, running this (by clicking run or pressing Shift+Enter) will list all files under the input directory\n",
    "\n",
    "import os\n",
    "for dirname, _, filenames in os.walk('/kaggle/input'):\n",
    "    for filename in filenames:\n",
    "        print(os.path.join(dirname, filename))\n",
    "\n",
    "# You can write up to 20GB to the current directory (/kaggle/working/) that gets preserved as output when you create a version using \"Save & Run All\" \n",
    "# You can also write temporary files to /kaggle/temp/, but they won't be saved outside of the current session"
   ]
  },
  {
   "cell_type": "markdown",
   "id": "dffd0b4e",
   "metadata": {
    "papermill": {
     "duration": 0.007463,
     "end_time": "2024-03-10T06:35:08.711632",
     "exception": false,
     "start_time": "2024-03-10T06:35:08.704169",
     "status": "completed"
    },
    "tags": []
   },
   "source": [
    "# **Stemming**\n",
    "Stemming is the process of reducing a word to its word stem that affixes to suffixes and prefixes or to the roots of words known as a lemma. Stemming is important in natural language understanding (NLU) and natural language processing (NLP"
   ]
  },
  {
   "cell_type": "code",
   "execution_count": 2,
   "id": "d461cd8b",
   "metadata": {
    "execution": {
     "iopub.execute_input": "2024-03-10T06:35:08.729663Z",
     "iopub.status.busy": "2024-03-10T06:35:08.728483Z",
     "iopub.status.idle": "2024-03-10T06:35:08.734162Z",
     "shell.execute_reply": "2024-03-10T06:35:08.733329Z"
    },
    "papermill": {
     "duration": 0.017148,
     "end_time": "2024-03-10T06:35:08.736545",
     "exception": false,
     "start_time": "2024-03-10T06:35:08.719397",
     "status": "completed"
    },
    "tags": []
   },
   "outputs": [],
   "source": [
    "words=[\"eating\",\"eats\",\"eaten\",\"writing\",\"writes\",\"programming\",\"programs\",\"history\",\"finally\",\"finalized\"]\n"
   ]
  },
  {
   "cell_type": "code",
   "execution_count": 3,
   "id": "8884efed",
   "metadata": {
    "execution": {
     "iopub.execute_input": "2024-03-10T06:35:08.754012Z",
     "iopub.status.busy": "2024-03-10T06:35:08.753578Z",
     "iopub.status.idle": "2024-03-10T06:35:11.028778Z",
     "shell.execute_reply": "2024-03-10T06:35:11.027436Z"
    },
    "papermill": {
     "duration": 2.287481,
     "end_time": "2024-03-10T06:35:11.031887",
     "exception": false,
     "start_time": "2024-03-10T06:35:08.744406",
     "status": "completed"
    },
    "tags": []
   },
   "outputs": [],
   "source": [
    "from nltk.stem import PorterStemmer\n"
   ]
  },
  {
   "cell_type": "code",
   "execution_count": 4,
   "id": "ffc547ce",
   "metadata": {
    "execution": {
     "iopub.execute_input": "2024-03-10T06:35:11.050226Z",
     "iopub.status.busy": "2024-03-10T06:35:11.049794Z",
     "iopub.status.idle": "2024-03-10T06:35:11.055188Z",
     "shell.execute_reply": "2024-03-10T06:35:11.053883Z"
    },
    "papermill": {
     "duration": 0.0179,
     "end_time": "2024-03-10T06:35:11.057717",
     "exception": false,
     "start_time": "2024-03-10T06:35:11.039817",
     "status": "completed"
    },
    "tags": []
   },
   "outputs": [],
   "source": [
    "stemming=PorterStemmer()\n"
   ]
  },
  {
   "cell_type": "code",
   "execution_count": 5,
   "id": "1cfc9653",
   "metadata": {
    "execution": {
     "iopub.execute_input": "2024-03-10T06:35:11.075651Z",
     "iopub.status.busy": "2024-03-10T06:35:11.074747Z",
     "iopub.status.idle": "2024-03-10T06:35:11.082423Z",
     "shell.execute_reply": "2024-03-10T06:35:11.081130Z"
    },
    "papermill": {
     "duration": 0.01994,
     "end_time": "2024-03-10T06:35:11.085485",
     "exception": false,
     "start_time": "2024-03-10T06:35:11.065545",
     "status": "completed"
    },
    "tags": []
   },
   "outputs": [
    {
     "name": "stdout",
     "output_type": "stream",
     "text": [
      "eating---->eat\n",
      "eats---->eat\n",
      "eaten---->eaten\n",
      "writing---->write\n",
      "writes---->write\n",
      "programming---->program\n",
      "programs---->program\n",
      "history---->histori\n",
      "finally---->final\n",
      "finalized---->final\n"
     ]
    }
   ],
   "source": [
    "for word in words:\n",
    "    print(word+\"---->\"+stemming.stem(word))"
   ]
  },
  {
   "cell_type": "code",
   "execution_count": 6,
   "id": "0054b2cd",
   "metadata": {
    "execution": {
     "iopub.execute_input": "2024-03-10T06:35:11.103698Z",
     "iopub.status.busy": "2024-03-10T06:35:11.102768Z",
     "iopub.status.idle": "2024-03-10T06:35:11.111551Z",
     "shell.execute_reply": "2024-03-10T06:35:11.110377Z"
    },
    "papermill": {
     "duration": 0.020759,
     "end_time": "2024-03-10T06:35:11.114366",
     "exception": false,
     "start_time": "2024-03-10T06:35:11.093607",
     "status": "completed"
    },
    "tags": []
   },
   "outputs": [
    {
     "data": {
      "text/plain": [
       "'wowww'"
      ]
     },
     "execution_count": 6,
     "metadata": {},
     "output_type": "execute_result"
    }
   ],
   "source": [
    "stemming.stem('Wowww')"
   ]
  },
  {
   "cell_type": "code",
   "execution_count": 7,
   "id": "4423c22a",
   "metadata": {
    "execution": {
     "iopub.execute_input": "2024-03-10T06:35:11.132245Z",
     "iopub.status.busy": "2024-03-10T06:35:11.131847Z",
     "iopub.status.idle": "2024-03-10T06:35:11.138914Z",
     "shell.execute_reply": "2024-03-10T06:35:11.137752Z"
    },
    "papermill": {
     "duration": 0.019161,
     "end_time": "2024-03-10T06:35:11.141607",
     "exception": false,
     "start_time": "2024-03-10T06:35:11.122446",
     "status": "completed"
    },
    "tags": []
   },
   "outputs": [
    {
     "data": {
      "text/plain": [
       "'sit'"
      ]
     },
     "execution_count": 7,
     "metadata": {},
     "output_type": "execute_result"
    }
   ],
   "source": [
    "stemming.stem(\"sitting\")"
   ]
  },
  {
   "cell_type": "code",
   "execution_count": 8,
   "id": "c5b5b205",
   "metadata": {
    "execution": {
     "iopub.execute_input": "2024-03-10T06:35:11.159647Z",
     "iopub.status.busy": "2024-03-10T06:35:11.159267Z",
     "iopub.status.idle": "2024-03-10T06:35:11.165659Z",
     "shell.execute_reply": "2024-03-10T06:35:11.164820Z"
    },
    "papermill": {
     "duration": 0.018502,
     "end_time": "2024-03-10T06:35:11.168296",
     "exception": false,
     "start_time": "2024-03-10T06:35:11.149794",
     "status": "completed"
    },
    "tags": []
   },
   "outputs": [
    {
     "data": {
      "text/plain": [
       "'congratul'"
      ]
     },
     "execution_count": 8,
     "metadata": {},
     "output_type": "execute_result"
    }
   ],
   "source": [
    "stemming.stem('congratulations')\n"
   ]
  },
  {
   "cell_type": "markdown",
   "id": "67721f8c",
   "metadata": {
    "papermill": {
     "duration": 0.008232,
     "end_time": "2024-03-10T06:35:11.185207",
     "exception": false,
     "start_time": "2024-03-10T06:35:11.176975",
     "status": "completed"
    },
    "tags": []
   },
   "source": [
    "# **RegexpStemmer class**\n",
    "NLTK has RegexpStemmer class with the help of which we can easily implement Regular Expression Stemmer algorithms. It basically takes a single regular expression and removes any prefix or suffix that matches the expression. Let us see an example"
   ]
  },
  {
   "cell_type": "code",
   "execution_count": 9,
   "id": "e6e5a65d",
   "metadata": {
    "execution": {
     "iopub.execute_input": "2024-03-10T06:35:11.204811Z",
     "iopub.status.busy": "2024-03-10T06:35:11.204415Z",
     "iopub.status.idle": "2024-03-10T06:35:11.208778Z",
     "shell.execute_reply": "2024-03-10T06:35:11.207465Z"
    },
    "papermill": {
     "duration": 0.017841,
     "end_time": "2024-03-10T06:35:11.211254",
     "exception": false,
     "start_time": "2024-03-10T06:35:11.193413",
     "status": "completed"
    },
    "tags": []
   },
   "outputs": [],
   "source": [
    "from nltk.stem import RegexpStemmer\n"
   ]
  },
  {
   "cell_type": "code",
   "execution_count": 10,
   "id": "c9fed9b7",
   "metadata": {
    "execution": {
     "iopub.execute_input": "2024-03-10T06:35:11.229872Z",
     "iopub.status.busy": "2024-03-10T06:35:11.229451Z",
     "iopub.status.idle": "2024-03-10T06:35:11.235337Z",
     "shell.execute_reply": "2024-03-10T06:35:11.233840Z"
    },
    "papermill": {
     "duration": 0.018639,
     "end_time": "2024-03-10T06:35:11.238249",
     "exception": false,
     "start_time": "2024-03-10T06:35:11.219610",
     "status": "completed"
    },
    "tags": []
   },
   "outputs": [],
   "source": [
    "reg_stemmer=RegexpStemmer('ing$|s$|e$|able$', min=4)\n"
   ]
  },
  {
   "cell_type": "code",
   "execution_count": 11,
   "id": "4c29b285",
   "metadata": {
    "execution": {
     "iopub.execute_input": "2024-03-10T06:35:11.258013Z",
     "iopub.status.busy": "2024-03-10T06:35:11.257578Z",
     "iopub.status.idle": "2024-03-10T06:35:11.264772Z",
     "shell.execute_reply": "2024-03-10T06:35:11.263608Z"
    },
    "papermill": {
     "duration": 0.020212,
     "end_time": "2024-03-10T06:35:11.267227",
     "exception": false,
     "start_time": "2024-03-10T06:35:11.247015",
     "status": "completed"
    },
    "tags": []
   },
   "outputs": [
    {
     "data": {
      "text/plain": [
       "'eat'"
      ]
     },
     "execution_count": 11,
     "metadata": {},
     "output_type": "execute_result"
    }
   ],
   "source": [
    "reg_stemmer.stem('eating')\n"
   ]
  },
  {
   "cell_type": "code",
   "execution_count": 12,
   "id": "3807de87",
   "metadata": {
    "execution": {
     "iopub.execute_input": "2024-03-10T06:35:11.286808Z",
     "iopub.status.busy": "2024-03-10T06:35:11.286355Z",
     "iopub.status.idle": "2024-03-10T06:35:11.294261Z",
     "shell.execute_reply": "2024-03-10T06:35:11.292812Z"
    },
    "papermill": {
     "duration": 0.021385,
     "end_time": "2024-03-10T06:35:11.297280",
     "exception": false,
     "start_time": "2024-03-10T06:35:11.275895",
     "status": "completed"
    },
    "tags": []
   },
   "outputs": [
    {
     "data": {
      "text/plain": [
       "'Hello'"
      ]
     },
     "execution_count": 12,
     "metadata": {},
     "output_type": "execute_result"
    }
   ],
   "source": [
    "reg_stemmer.stem('Hellos')\n"
   ]
  },
  {
   "cell_type": "code",
   "execution_count": 13,
   "id": "9b082b90",
   "metadata": {
    "execution": {
     "iopub.execute_input": "2024-03-10T06:35:11.318554Z",
     "iopub.status.busy": "2024-03-10T06:35:11.318145Z",
     "iopub.status.idle": "2024-03-10T06:35:11.327235Z",
     "shell.execute_reply": "2024-03-10T06:35:11.325581Z"
    },
    "papermill": {
     "duration": 0.024701,
     "end_time": "2024-03-10T06:35:11.330889",
     "exception": false,
     "start_time": "2024-03-10T06:35:11.306188",
     "status": "completed"
    },
    "tags": []
   },
   "outputs": [
    {
     "data": {
      "text/plain": [
       "'sus'"
      ]
     },
     "execution_count": 13,
     "metadata": {},
     "output_type": "execute_result"
    }
   ],
   "source": [
    "reg_stemmer.stem('sus')\n"
   ]
  },
  {
   "cell_type": "markdown",
   "id": "83ab1ea7",
   "metadata": {
    "papermill": {
     "duration": 0.009009,
     "end_time": "2024-03-10T06:35:11.349514",
     "exception": false,
     "start_time": "2024-03-10T06:35:11.340505",
     "status": "completed"
    },
    "tags": []
   },
   "source": [
    "**For example, if the original word is \"running,\" and after stemming it becomes \"run,\" the length is 3. Since 3 is less than 4, the stemming operation might be skipped for such words. However, if the original word is \"playing,\" and after stemming it becomes \"play,\" the length is 4, so the stemming operation would be applied.**"
   ]
  },
  {
   "cell_type": "code",
   "execution_count": null,
   "id": "1045110a",
   "metadata": {
    "papermill": {
     "duration": 0.008506,
     "end_time": "2024-03-10T06:35:11.366847",
     "exception": false,
     "start_time": "2024-03-10T06:35:11.358341",
     "status": "completed"
    },
    "tags": []
   },
   "outputs": [],
   "source": []
  },
  {
   "cell_type": "markdown",
   "id": "db9c0f49",
   "metadata": {
    "papermill": {
     "duration": 0.008886,
     "end_time": "2024-03-10T06:35:11.384532",
     "exception": false,
     "start_time": "2024-03-10T06:35:11.375646",
     "status": "completed"
    },
    "tags": []
   },
   "source": [
    "# **Snowball Stemmer**\n",
    "It is a stemming algorithm which is also known as the Porter2 stemming algorithm as it is a better version of the Porter Stemmer since some issues of it were fixed in this stemmer"
   ]
  },
  {
   "cell_type": "code",
   "execution_count": 14,
   "id": "c45fa99f",
   "metadata": {
    "execution": {
     "iopub.execute_input": "2024-03-10T06:35:11.404019Z",
     "iopub.status.busy": "2024-03-10T06:35:11.403571Z",
     "iopub.status.idle": "2024-03-10T06:35:11.409314Z",
     "shell.execute_reply": "2024-03-10T06:35:11.408126Z"
    },
    "papermill": {
     "duration": 0.01856,
     "end_time": "2024-03-10T06:35:11.411876",
     "exception": false,
     "start_time": "2024-03-10T06:35:11.393316",
     "status": "completed"
    },
    "tags": []
   },
   "outputs": [],
   "source": [
    "from nltk.stem import SnowballStemmer"
   ]
  },
  {
   "cell_type": "code",
   "execution_count": 15,
   "id": "5ecc56ba",
   "metadata": {
    "execution": {
     "iopub.execute_input": "2024-03-10T06:35:11.432898Z",
     "iopub.status.busy": "2024-03-10T06:35:11.431651Z",
     "iopub.status.idle": "2024-03-10T06:35:11.437251Z",
     "shell.execute_reply": "2024-03-10T06:35:11.436091Z"
    },
    "papermill": {
     "duration": 0.018612,
     "end_time": "2024-03-10T06:35:11.439896",
     "exception": false,
     "start_time": "2024-03-10T06:35:11.421284",
     "status": "completed"
    },
    "tags": []
   },
   "outputs": [],
   "source": [
    "snowballsstemmer=SnowballStemmer('english')"
   ]
  },
  {
   "cell_type": "code",
   "execution_count": 16,
   "id": "81bedecf",
   "metadata": {
    "execution": {
     "iopub.execute_input": "2024-03-10T06:35:11.459476Z",
     "iopub.status.busy": "2024-03-10T06:35:11.459052Z",
     "iopub.status.idle": "2024-03-10T06:35:11.466151Z",
     "shell.execute_reply": "2024-03-10T06:35:11.464665Z"
    },
    "papermill": {
     "duration": 0.020185,
     "end_time": "2024-03-10T06:35:11.468893",
     "exception": false,
     "start_time": "2024-03-10T06:35:11.448708",
     "status": "completed"
    },
    "tags": []
   },
   "outputs": [
    {
     "name": "stdout",
     "output_type": "stream",
     "text": [
      "eating---->eat\n",
      "eats---->eat\n",
      "eaten---->eaten\n",
      "writing---->write\n",
      "writes---->write\n",
      "programming---->program\n",
      "programs---->program\n",
      "history---->histori\n",
      "finally---->final\n",
      "finalized---->final\n"
     ]
    }
   ],
   "source": [
    "for word in words:\n",
    "    print(word+\"---->\"+snowballsstemmer.stem(word))"
   ]
  },
  {
   "cell_type": "code",
   "execution_count": 17,
   "id": "9ec21b9e",
   "metadata": {
    "execution": {
     "iopub.execute_input": "2024-03-10T06:35:11.489680Z",
     "iopub.status.busy": "2024-03-10T06:35:11.489096Z",
     "iopub.status.idle": "2024-03-10T06:35:11.499321Z",
     "shell.execute_reply": "2024-03-10T06:35:11.497938Z"
    },
    "papermill": {
     "duration": 0.02399,
     "end_time": "2024-03-10T06:35:11.502551",
     "exception": false,
     "start_time": "2024-03-10T06:35:11.478561",
     "status": "completed"
    },
    "tags": []
   },
   "outputs": [
    {
     "data": {
      "text/plain": [
       "('fairli', 'sportingli')"
      ]
     },
     "execution_count": 17,
     "metadata": {},
     "output_type": "execute_result"
    }
   ],
   "source": [
    "stemming.stem(\"fairly\"),stemming.stem(\"sportingly\")\n"
   ]
  },
  {
   "cell_type": "code",
   "execution_count": 18,
   "id": "3f75e252",
   "metadata": {
    "execution": {
     "iopub.execute_input": "2024-03-10T06:35:11.523989Z",
     "iopub.status.busy": "2024-03-10T06:35:11.523512Z",
     "iopub.status.idle": "2024-03-10T06:35:11.539968Z",
     "shell.execute_reply": "2024-03-10T06:35:11.532039Z"
    },
    "papermill": {
     "duration": 0.032305,
     "end_time": "2024-03-10T06:35:11.544623",
     "exception": false,
     "start_time": "2024-03-10T06:35:11.512318",
     "status": "completed"
    },
    "tags": []
   },
   "outputs": [
    {
     "data": {
      "text/plain": [
       "('fair', 'sport')"
      ]
     },
     "execution_count": 18,
     "metadata": {},
     "output_type": "execute_result"
    }
   ],
   "source": [
    "snowballsstemmer.stem(\"fairly\"),snowballsstemmer.stem(\"sportingly\")"
   ]
  },
  {
   "cell_type": "code",
   "execution_count": null,
   "id": "ac518ebf",
   "metadata": {
    "papermill": {
     "duration": 0.00943,
     "end_time": "2024-03-10T06:35:11.563358",
     "exception": false,
     "start_time": "2024-03-10T06:35:11.553928",
     "status": "completed"
    },
    "tags": []
   },
   "outputs": [],
   "source": []
  }
 ],
 "metadata": {
  "kaggle": {
   "accelerator": "none",
   "dataSources": [],
   "dockerImageVersionId": 30664,
   "isGpuEnabled": false,
   "isInternetEnabled": true,
   "language": "python",
   "sourceType": "notebook"
  },
  "kernelspec": {
   "display_name": "Python 3",
   "language": "python",
   "name": "python3"
  },
  "language_info": {
   "codemirror_mode": {
    "name": "ipython",
    "version": 3
   },
   "file_extension": ".py",
   "mimetype": "text/x-python",
   "name": "python",
   "nbconvert_exporter": "python",
   "pygments_lexer": "ipython3",
   "version": "3.10.13"
  },
  "papermill": {
   "default_parameters": {},
   "duration": 7.885735,
   "end_time": "2024-03-10T06:35:12.295653",
   "environment_variables": {},
   "exception": null,
   "input_path": "__notebook__.ipynb",
   "output_path": "__notebook__.ipynb",
   "parameters": {},
   "start_time": "2024-03-10T06:35:04.409918",
   "version": "2.5.0"
  }
 },
 "nbformat": 4,
 "nbformat_minor": 5
}
